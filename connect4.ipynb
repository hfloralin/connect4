{
 "cells": [
  {
   "cell_type": "markdown",
   "metadata": {},
   "source": [
    "# 1. Import Libraries"
   ]
  },
  {
   "cell_type": "code",
   "execution_count": 10,
   "metadata": {},
   "outputs": [],
   "source": [
    "import numpy as np\n",
    "import random\n",
    "\n",
    "import matplotlib.pyplot as plt "
   ]
  },
  {
   "cell_type": "markdown",
   "metadata": {},
   "source": [
    "# 2. Define Game Board for Connect4"
   ]
  },
  {
   "cell_type": "code",
   "execution_count": 11,
   "metadata": {},
   "outputs": [],
   "source": [
    "class Board():\n",
    "    def __init__(self, xmax, ymax):\n",
    "        self.xmax = xmax\n",
    "        self.ymax = ymax\n",
    "        self.grid = np.zeros((self.ymax, self.xmax))\n",
    "        self.player1 = 1.0 #use integer values to represent players\n",
    "        self.player2 = 2.0\n",
    "        self.draw = 99\n",
    "        self.winner = None\n",
    "    \n",
    "    #clear the board\n",
    "    def reset(self):\n",
    "        self.grid = np.zeros((self.ymax, self.xmax))\n",
    "        self.player1 = 1.0\n",
    "        self.player2 = 2.0\n",
    "        self.draw = 99\n",
    "        self.winner = None\n",
    "    \n",
    "    #check if the column is full for inserting the coin\n",
    "    def check_coin(self, column):\n",
    "        if self.grid[0][column] != 0:\n",
    "            return False #column is full\n",
    "        else:\n",
    "            return True\n",
    "\n",
    "    #player insert the coin in chosen column\n",
    "    def insert_coin(self, player, column):\n",
    "        for i in range(self.ymax):\n",
    "            if (self.grid[i][column] != 0):\n",
    "                i -= 1\n",
    "                break\n",
    "        self.grid[i][column] = player\n",
    "        \n",
    "        #check if there is any winner\n",
    "        if self.check_victory(column, i, player):\n",
    "            self.winner = player\n",
    "        #if the board is full, this is a draw\n",
    "        for i in self.grid:\n",
    "            if 0 in i:\n",
    "                break\n",
    "            else:\n",
    "                if i == (len(self.grid)-1):\n",
    "                    self.winner = self.draw\n",
    "        return self.grid\n",
    "\n",
    "    #go through all the lines to find scores\n",
    "    def line_recursive(self, x, y, player, dx, dy, score):\n",
    "        if (y + dy > (self.ymax-1)) or (y + dy < 0):\n",
    "            return score\n",
    "        if (x + dx > (self.xmax-1)) or (x + dx < 0):\n",
    "            return score\n",
    "        if self.grid[y + dy][x + dx] == player:\n",
    "            return self.line_recursive(x + dx, y + dy, player, dx, dy, score + 1)\n",
    "        else:\n",
    "            return score\n",
    "\n",
    "    #check if anyone wins and determine the winner\n",
    "    def check_victory(self, x, y,player):\n",
    "        #horizontal\n",
    "        left = self.line_recursive(x, y, player, -1, 0, 0)\n",
    "        right = self.line_recursive(x, y, player, 1, 0, 0)\n",
    "        if left + right > 2:\n",
    "            #print(\"Player \" + str(int(player)) + \" wins!\")\n",
    "            return True\n",
    "        \n",
    "        #vertical\n",
    "        up = self.line_recursive(x, y, player, 0, -1, 0)\n",
    "        down = self.line_recursive(x, y, player, 0, 1, 0)\n",
    "        if up + down > 2:\n",
    "            #print(\"Player \" + str(int(player)) + \" wins!\")\n",
    "            return True\n",
    "        \n",
    "        #diag1\n",
    "        upleft = self.line_recursive(x, y, player, -1, -1, 0)\n",
    "        downright = self.line_recursive(x, y, player, 1, 1, 0)\n",
    "        if upleft + downright > 2:\n",
    "            #print(\"Player\" + str(int(player)) + \"wins!\")\n",
    "            return True\n",
    "        \n",
    "        #diag2\n",
    "        upright = self.line_recursive(x, y, player, 1, -1, 0)\n",
    "        downleft = self.line_recursive(x, y, player, -1, 1, 0)\n",
    "        if upright + downleft > 2:\n",
    "            #print(\"Player\" + str(int(player)) + \"wins!\")\n",
    "            return True\n",
    "    \n",
    "    #get the current state of the game\n",
    "    def get_state(self):\n",
    "        arr = []\n",
    "        for i in self.grid:\n",
    "            arr.append(tuple(i))\n",
    "        return tuple(arr)\n",
    "    "
   ]
  },
  {
   "cell_type": "code",
   "execution_count": 12,
   "metadata": {},
   "outputs": [
    {
     "name": "stdout",
     "output_type": "stream",
     "text": [
      "[[0. 0. 0. 0. 0. 0. 0.]\n",
      " [0. 0. 0. 0. 0. 0. 0.]\n",
      " [0. 0. 0. 1. 0. 0. 0.]\n",
      " [0. 0. 0. 1. 0. 0. 0.]\n",
      " [0. 0. 0. 1. 0. 0. 0.]\n",
      " [0. 0. 0. 1. 0. 0. 0.]]\n"
     ]
    }
   ],
   "source": [
    "test_board = Board(7, 6)\n",
    "\n",
    "test_board.insert_coin(test_board.player1, 3)\n",
    "test_board.insert_coin(test_board.player1, 3)\n",
    "test_board.insert_coin(test_board.player1, 3)\n",
    "test_board.insert_coin(test_board.player1, 3)\n",
    "\n",
    "print(test_board.grid)"
   ]
  },
  {
   "cell_type": "markdown",
   "metadata": {},
   "source": [
    "# 3. Define Agents\n",
    "## 3.1. Baseline Random Agent"
   ]
  },
  {
   "cell_type": "code",
   "execution_count": 13,
   "metadata": {},
   "outputs": [],
   "source": [
    "class RandomAgent(object):\n",
    "    def __init__(self, board):\n",
    "        self.board = board\n",
    "        self.player = 1\n",
    "\n",
    "    def take_turn(self):\n",
    "        #take a random action\n",
    "        action = np.random.randint(0, self.board.xmax - 1)\n",
    "        self.board.insert_coin(1, action)"
   ]
  },
  {
   "cell_type": "markdown",
   "metadata": {},
   "source": [
    "## 3.2 TD Agent (super class for Q-learning and SARSA agents)"
   ]
  },
  {
   "cell_type": "code",
   "execution_count": 14,
   "metadata": {},
   "outputs": [],
   "source": [
    "class TDAgent(): \n",
    "    def __init__(self, board, epsilon, alpha, gamma, player):\n",
    "        self.board = board\n",
    "        self.Q = {} #Q will be a dict of k:v pairs of [board state]: [dictionary of k:v pairs of [the action]:[its q-value]]\n",
    "        self.epsilon = epsilon\n",
    "        self.alpha = alpha\n",
    "        self.gamma = gamma\n",
    "        self.player = player\n",
    "        self.history = [] #a record of time steps required to win\n",
    "        self.win = 0\n",
    "\n",
    "        self.Q_INITIAL = {}\n",
    "        for i in range(self.board.xmax):\n",
    "            self.Q_INITIAL[i] = 1\n",
    "        #this is the q-table entry never-before-seen states are initialized to, as creating an initial q-table with initial values\n",
    "        #would be extremely time and space consuming.\n",
    "    \n",
    "\n",
    "    def select_action(self, state):\n",
    "        #choose action with epsilon greedy policy\n",
    "        r = np.random.random()\n",
    "        \n",
    "        if r < self.epsilon:\n",
    "            action = np.random.randint(0, self.board.xmax -1)\n",
    "        else:\n",
    "            current = self.Q[state] #retrieve q-table entry\n",
    "            actions = current.keys() #retrieve Q-values for the current q-table entry\n",
    "\n",
    "            max = -float('inf') #find the action corresponding to the maximum Q-value for the selected q-table entry\n",
    "            action = None\n",
    "            for i in actions:\n",
    "                if current[i] > max:\n",
    "                    max = current[i]\n",
    "                    action = i\n",
    "       \n",
    "        return action\n",
    "\n",
    "\n",
    "    def get_reward(self):\n",
    "        reward = 0\n",
    "        \n",
    "        if self.board.winner: #if a winner has been declared...\n",
    "            if self.board.winner == self.player: #if the q-learning agent won...\n",
    "                reward = 1 #set a positive reward\n",
    "            elif self.board.winner != self.board.draw:\n",
    "                reward = -2 #otherwise, the q-learning agent lost, so set a negative reward\n",
    "            else:\n",
    "                reward = -1 #in case of a draw, but try not to\n",
    "        return reward\n",
    "    \n",
    "\n",
    "    def updateQ(self, old_state, action):\n",
    "        pass #update function is defined differently for each agent\n",
    "\n",
    "\n",
    "    def take_turn(self):\n",
    "        old_state = self.board.get_state() #retrieves and stores current state\n",
    "        if old_state not in self.Q.keys():\n",
    "            self.Q[old_state] = self.Q_INITIAL\n",
    "        action = self.select_action(old_state) #stores chosen action\n",
    "        if self.board.check_coin == False: #column is full, cannot insert to a full column\n",
    "            action = self.select_action(old_state) #action invalid, choose another action\n",
    "        self.board.insert_coin(self.player, action) #executes action\n",
    "        new_state = self.board.get_state()\n",
    "        if new_state not in self.Q.keys(): #if the action executed results in reaching an unindexed state...\n",
    "            self.Q[new_state] = self.Q_INITIAL #initialize that state in the Q-table.\n",
    "        self.updateQ(old_state, action) #updates Q-value for old state and chosen action\n",
    "\n",
    "\n",
    "    def train(self, episodes):\n",
    "        rnd = RandomAgent(self.board)\n",
    "        for epi in range(0,episodes):\n",
    "            time = 0\n",
    "            self.board.reset()\n",
    "            while not self.board.winner:\n",
    "                rnd.take_turn()\n",
    "                self.take_turn()\n",
    "                time += 1\n",
    "            if self.board.winner == self.player:\n",
    "                self.win += (1/episodes)\n",
    "            self.history.append(time)\n",
    "\n",
    "        #plot the time steps taken for the agent to win in each episode    \n",
    "        plt.plot(self.history[:100])\n",
    "        plt.xlabel('Episodes')\n",
    "        plt.ylabel('Time steps')\n",
    "        plt.show(True)\n",
    "        plt.close()\n",
    "\n",
    "        print(\"Average steps it took for winning is: \", np.average(self.history))\n",
    "        print(\"Percentage of our agent winning is: \", self.win)\n",
    "            "
   ]
  },
  {
   "cell_type": "markdown",
   "metadata": {},
   "source": [
    "## 3.3 SARSA Agent"
   ]
  },
  {
   "cell_type": "code",
   "execution_count": 15,
   "metadata": {},
   "outputs": [],
   "source": [
    "class SarsaAgent(TDAgent):\n",
    "    def __init__(self, board, epsilon, alpha, gamma, player):\n",
    "        super().__init__(board, epsilon, alpha, gamma, player)\n",
    "    \n",
    "    def updateQ(self, old_state, action):\n",
    "        new_state = self.board.get_state()\n",
    "        next_action = self.select_action(new_state)\n",
    "        next_Q = self.Q[new_state][next_action]\n",
    "        \n",
    "        # Q = Q + alpha(reward + gamma * Q for executed new action - Q)\n",
    "        self.Q[old_state][action] += self.alpha * ((self.get_reward() + self.gamma * next_Q) - self.Q[old_state][action])"
   ]
  },
  {
   "cell_type": "markdown",
   "metadata": {},
   "source": [
    "## 3.4 Q-Learning Agent"
   ]
  },
  {
   "cell_type": "code",
   "execution_count": 16,
   "metadata": {},
   "outputs": [],
   "source": [
    "class QLearningAgent(TDAgent):\n",
    "    def __init__(self, board, epsilon, alpha, gamma, player):\n",
    "        super().__init__(board, epsilon, alpha, gamma, player)\n",
    "    \n",
    "    def updateQ(self, old_state, action):\n",
    "        current_q_entry = self.Q[self.board.get_state()]\n",
    "\n",
    "        maxq = -float('inf')\n",
    "        for i in current_q_entry.keys():\n",
    "            if current_q_entry[i] > maxq:\n",
    "                maxq = current_q_entry[i] #gets the maximum Q value amongst the current q-table entry's actions\n",
    "        \n",
    "        # Q = Q + alpha(reward + gamma * maxQ' - Q)\n",
    "        self.Q[old_state][action] += self.alpha * ((self.get_reward() + self.gamma * maxq) - self.Q[old_state][action])"
   ]
  },
  {
   "cell_type": "markdown",
   "metadata": {},
   "source": [
    "## 3.5 Double Q-Learning Agent"
   ]
  },
  {
   "cell_type": "code",
   "execution_count": 17,
   "metadata": {},
   "outputs": [],
   "source": [
    "class DoubleQLAgent(TDAgent):\n",
    "    def __init__(self, board, epsilon, alpha, gamma, player):\n",
    "        super().__init__(board, epsilon, alpha, gamma, player)\n",
    "        self.Q2 = {} #second q table for double q-learning\n",
    "\n",
    "\n",
    "    def select_action(self, state):\n",
    "        #choose action with epsilon greedy policy\n",
    "        r = np.random.random()\n",
    "        \n",
    "        if r < self.epsilon:\n",
    "            action = np.random.randint(0, self.board.xmax -1)\n",
    "        else:\n",
    "            current1 = self.Q[state] #retrieve q-table entry\n",
    "            actions1 = current1.keys() #retrieve Q-values for the current q-table entry\n",
    "\n",
    "            current2 = self.Q2[state]\n",
    "            actions2 = current2.keys()\n",
    "\n",
    "            max1 = -float('inf') #find the action corresponding to the maximum Q-value for the selected q-table entry\n",
    "            action1 = None\n",
    "            for i in actions1:\n",
    "                if current1[i] > max1:\n",
    "                    max1 = current1[i]\n",
    "                    action1 = i\n",
    "\n",
    "            max2 = -float('inf') #find the action corresponding to the maximum Q-value for the selected q-table entry\n",
    "            action2 = None\n",
    "            for i in actions2:\n",
    "                if current2[i] > max2:\n",
    "                    max2 = current2[i]\n",
    "                    action2 = i\n",
    "            \n",
    "            #choose the action with a higher q-value\n",
    "            if max1 < max2:\n",
    "                action = action2\n",
    "            else:\n",
    "                action = action1\n",
    "       \n",
    "        return action\n",
    "\n",
    "\n",
    "    def updateQ(self, old_state, action):\n",
    "        current_q1_entry = self.Q[self.board.get_state()]\n",
    "        current_q2_entry = self.Q2[self.board.get_state()]\n",
    "\n",
    "        maxq1 = -float('inf')\n",
    "        for i in current_q1_entry.keys():\n",
    "            if current_q1_entry[i] > maxq1:\n",
    "                maxq1 = current_q1_entry[i] #gets the maximum Q value amongst the current q-table1 entry's actions\n",
    "        \n",
    "        maxq2 = -float('inf')\n",
    "        for i in current_q2_entry.keys():\n",
    "            if current_q2_entry[i] > maxq2:\n",
    "                maxq2 = current_q2_entry[i] #gets the maximum Q value amongst the current q-table2 entry's actions\n",
    "        \n",
    "        maxq = max(maxq1, maxq2) #update with the higher maximum Q value\n",
    "        # Q = Q + alpha(reward + gamma * maxQ' - Q)\n",
    "        self.Q[old_state][action] += self.alpha * ((self.get_reward() + self.gamma * maxq) - self.Q[old_state][action])\n",
    "    \n",
    "\n",
    "    def take_turn(self):\n",
    "        old_state = self.board.get_state() #retrieves and stores current state\n",
    "        if old_state not in self.Q.keys():\n",
    "            self.Q[old_state] = self.Q_INITIAL\n",
    "            self.Q2[old_state] = self.Q_INITIAL\n",
    "        action = self.select_action(old_state) #stores chosen action\n",
    "        if self.board.check_coin == False: #column is full, cannot insert to a full column\n",
    "            action = self.select_action(old_state) #action invalid, choose another action\n",
    "        self.board.insert_coin(self.player, action) #executes action\n",
    "        new_state = self.board.get_state()\n",
    "        if new_state not in self.Q.keys(): #if the action executed results in reaching an unindexed state...\n",
    "            self.Q[new_state] = self.Q_INITIAL #initialize that state in both Q-tables.\n",
    "            self.Q2[new_state] = self.Q_INITIAL\n",
    "        self.updateQ(old_state, action) #updates Q-value for old state and chosen action\n"
   ]
  },
  {
   "cell_type": "markdown",
   "metadata": {},
   "source": [
    "# 4 Train the agents and report the results"
   ]
  },
  {
   "cell_type": "code",
   "execution_count": 18,
   "metadata": {},
   "outputs": [
    {
     "name": "stdout",
     "output_type": "stream",
     "text": [
      "SARSA Agent:\n"
     ]
    },
    {
     "data": {
      "image/png": "[encoded data removed]",
      "text/plain": [
       "<Figure size 432x288 with 1 Axes>"
      ]
     },
     "metadata": {
      "needs_background": "light"
     },
     "output_type": "display_data"
    },
    {
     "name": "stdout",
     "output_type": "stream",
     "text": [
      "Average steps it took for winning is:  4.0435\n",
      "Percentage of our agent winning is:  0.9979999999999455\n",
      "\n",
      "Q-Learning Agent:\n"
     ]
    },
    {
     "data": {
      "image/png": "[encoded data removed]",
      "text/plain": [
       "<Figure size 432x288 with 1 Axes>"
      ]
     },
     "metadata": {
      "needs_background": "light"
     },
     "output_type": "display_data"
    },
    {
     "name": "stdout",
     "output_type": "stream",
     "text": [
      "Average steps it took for winning is:  4.0705\n",
      "Percentage of our agent winning is:  0.9954999999999458\n",
      "\n",
      "Double Q-Learning Agent:\n"
     ]
    },
    {
     "data": {
      "image/png": "[encoded data removed]",
      "text/plain": [
       "<Figure size 432x288 with 1 Axes>"
      ]
     },
     "metadata": {
      "needs_background": "light"
     },
     "output_type": "display_data"
    },
    {
     "name": "stdout",
     "output_type": "stream",
     "text": [
      "Average steps it took for winning is:  4.0425\n",
      "Percentage of our agent winning is:  0.9984999999999454\n"
     ]
    }
   ],
   "source": [
    "c4_board = Board(7,6)\n",
    "print(\"SARSA Agent:\")\n",
    "q2 = SarsaAgent(c4_board, 0.01, 0.1, 0.9, 2)\n",
    "q2.train(2000)\n",
    "print(\"\\nQ-Learning Agent:\")\n",
    "ql = QLearningAgent(c4_board, 0.01, 0.1, 0.9, 2)\n",
    "ql.train(2000)\n",
    "print(\"\\nDouble Q-Learning Agent:\")\n",
    "dql= DoubleQLAgent(c4_board, 0.01, 0.1, 0.9, 2)\n",
    "dql.train(2000)"
   ]
  }
 ],
 "metadata": {
  "kernelspec": {
   "display_name": "Python 3.9.12 ('base')",
   "language": "python",
   "name": "python3"
  },
  "language_info": {
   "codemirror_mode": {
    "name": "ipython",
    "version": 3
   },
   "file_extension": ".py",
   "mimetype": "text/x-python",
   "name": "python",
   "nbconvert_exporter": "python",
   "pygments_lexer": "ipython3",
   "version": "3.9.12 (main, Apr  5 2022, 01:53:17) \n[Clang 12.0.0 ]"
  },
  "orig_nbformat": 4,
  "vscode": {
   "interpreter": {
    "hash": "61ff4196a6d0f9950cdca1a559f894c12d46cfe8822e890ebc53cf0c4d7d2d4a"
   }
  }
 },
 "nbformat": 4,
 "nbformat_minor": 2
}
